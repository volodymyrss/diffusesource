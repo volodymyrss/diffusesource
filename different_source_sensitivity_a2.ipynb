{
 "cells": [
  {
   "cell_type": "code",
   "execution_count": 1,
   "metadata": {},
   "outputs": [],
   "source": [
    "import numpy as np\n",
    "import astropy.units as u\n",
    "from astropy.coordinates import SkyCoord\n",
    "\n",
    "# %matplotlib inline\n",
    "import matplotlib.pyplot as plt\n",
    "\n",
    "from IPython.display import display\n",
    "from gammapy.data import Observation, observatory_locations\n",
    "from gammapy.datasets import SpectrumDataset, SpectrumDatasetOnOff, MapDataset, MapDatasetOnOff\n",
    "from gammapy.estimators import SensitivityEstimator\n",
    "from gammapy.irf import load_cta_irfs\n",
    "from gammapy.makers import SpectrumDatasetMaker, MapDatasetMaker\n",
    "from gammapy.maps import MapAxis, RegionGeom, Map, WcsGeom\n",
    "from gammapy.modeling.models import (\n",
    "    TemplateSpatialModel, PowerLawNormSpectralModel, SkyModel, FoVBackgroundModel, Models, \n",
    "    PowerLawSpectralModel, GaussianSpatialModel\n",
    ")"
   ]
  },
  {
   "cell_type": "code",
   "execution_count": 2,
   "metadata": {},
   "outputs": [],
   "source": [
    "from gammapy.utils.check import check_tutorials_setup\n",
    "\n",
    "# check_tutorials_setup()"
   ]
  },
  {
   "cell_type": "code",
   "execution_count": 3,
   "metadata": {},
   "outputs": [],
   "source": [
    "energy_axis = MapAxis.from_energy_bounds(\"0.03 TeV\", \"100 TeV\", nbin=30)\n",
    "energy_axis_true = MapAxis.from_energy_bounds(\n",
    "    \"0.01 TeV\", \"100 TeV\", nbin=100, name=\"energy_true\"\n",
    ")\n",
    "migra_axis = MapAxis.from_bounds(\n",
    "    0.5, 2, nbin=150, node_type=\"edges\", name=\"migra\"\n",
    ")\n",
    "\n",
    "\n",
    "\n",
    "livetime = 10.0 * u.hr\n",
    "\n",
    "source_coord = SkyCoord.from_name(\"Geminga\")\n",
    "\n",
    "geom = RegionGeom.create(f\"icrs;circle({source_coord.ra.deg - 0.1}, {source_coord.dec.deg}, 1)\", axes=[energy_axis])\n",
    "# geom = RegionGeom.create(f\"icrs;circle({source_coord.ra.deg - 0.1}, {source_coord.dec.deg}, 100)\", axes=[energy_axis], binsz_wcs=0.02 * u.deg)\n",
    "\n",
    "pointing = source_coord\n",
    "\n",
    "\n",
    "# geom = WcsGeom.create(\n",
    "#     skydir=pointing,\n",
    "#     width=(2, 2),\n",
    "#     binsz=0.02,\n",
    "#     frame=\"icrs\",\n",
    "#     axes=[energy_axis],\n",
    "# )\n",
    "\n",
    "empty_dataset = SpectrumDataset.create(geom=geom, energy_axis_true=energy_axis_true)"
   ]
  },
  {
   "cell_type": "code",
   "execution_count": 4,
   "metadata": {},
   "outputs": [
    {
     "data": {
      "text/plain": [
       "RegionGeom\n",
       "\n",
       "\tregion     : CircleSkyRegion\n",
       "\taxes       : ['lon', 'lat', 'energy']\n",
       "\tshape      : (1, 1, 30)\n",
       "\tndim       : 3\n",
       "\tframe      : icrs\n",
       "\tcenter     : 98.4 deg, 17.8 deg"
      ]
     },
     "execution_count": 4,
     "metadata": {},
     "output_type": "execute_result"
    }
   ],
   "source": [
    "geom"
   ]
  },
  {
   "cell_type": "code",
   "execution_count": 5,
   "metadata": {},
   "outputs": [],
   "source": [
    "irfs = load_cta_irfs(\n",
    "    # \"$GAMMAPY_DATA/1.0/cta-1dc/caldb/data/cta/1dc/bcf/South_z20_50h/irf_file.fits\",\n",
    "    \"../Prod5-South-20deg-SouthAz-14MSTs37SSTs.18000s-v0.1.fits\"\n",
    "    # \"$GAMMAPY_DATA/1.0/cta-caldb/Prod5-South-20deg-AverageAz-14MSTs37SSTs.180000s-v0.1.fits.gz\"\n",
    ")\n",
    "location = observatory_locations[\"cta_south\"]\n",
    "pointing = SkyCoord.from_name(\"Geminga\")\n"
   ]
  },
  {
   "cell_type": "code",
   "execution_count": 6,
   "metadata": {},
   "outputs": [],
   "source": [
    "obs = Observation.create(\n",
    "    pointing=pointing, irfs=irfs, livetime=livetime, location=location\n",
    ")\n",
    "\n",
    "spectrum_maker = SpectrumDatasetMaker(selection=[\"exposure\", \"edisp\", \"background\"])\n",
    "spectrum_dataset = spectrum_maker.run(empty_dataset, obs)\n",
    "\n",
    "containment = 0.68\n",
    "\n",
    "# correct exposure\n",
    "spectrum_dataset.exposure *= containment\n",
    "\n",
    "# correct background estimation\n",
    "on_radii = obs.psf.containment_radius(\n",
    "    energy_true=energy_axis.center, offset=0.5 * u.deg, fraction=containment\n",
    ")\n",
    "factor = (1 - np.cos(on_radii)) / (1 - np.cos(geom.region.radius))\n",
    "spectrum_dataset.background *= factor.value.reshape((-1, 1, 1))\n"
   ]
  },
  {
   "cell_type": "code",
   "execution_count": 7,
   "metadata": {},
   "outputs": [
    {
     "name": "stdout",
     "output_type": "stream",
     "text": [
      "SpectrumDataset\n",
      "---------------\n",
      "\n",
      "  Name                            : Y0sKnZCZ \n",
      "\n",
      "  Total counts                    : 0 \n",
      "  Total background counts         : 15906.47\n",
      "  Total excess counts             : -15906.47\n",
      "\n",
      "  Predicted counts                : 15906.47\n",
      "  Predicted background counts     : 15906.47\n",
      "  Predicted excess counts         : nan\n",
      "\n",
      "  Exposure min                    : 3.94e+05 m2 s\n",
      "  Exposure max                    : 8.16e+10 m2 s\n",
      "\n",
      "  Number of total bins            : 30 \n",
      "  Number of fit bins              : 30 \n",
      "\n",
      "  Fit statistic type              : cash\n",
      "  Fit statistic value (-2 log(L)) : nan\n",
      "\n",
      "  Number of models                : 0 \n",
      "  Number of parameters            : 0\n",
      "  Number of free parameters       : 0\n",
      "\n",
      "\n"
     ]
    }
   ],
   "source": [
    "print(spectrum_dataset)"
   ]
  },
  {
   "cell_type": "code",
   "execution_count": 8,
   "metadata": {},
   "outputs": [
    {
     "name": "stdout",
     "output_type": "stream",
     "text": [
      "Models\n",
      "\n",
      "Component 0: SkyModel\n",
      "\n",
      "  Name                      : Geminga-template-model\n",
      "  Datasets names            : None\n",
      "  Spectral model type       : PowerLawSpectralModel\n",
      "  Spatial  model type       : GaussianSpatialModel\n",
      "  Temporal model type       : \n",
      "  Parameters:\n",
      "    index                         :      2.000   +/-    0.00             \n",
      "    amplitude                     :   1.00e-12   +/- 0.0e+00 1 / (cm2 s TeV)\n",
      "    reference             (frozen):      1.000       TeV         \n",
      "    lon_0                         :     98.476   +/-    0.00 deg         \n",
      "    lat_0                         :     17.770   +/-    0.00 deg         \n",
      "    sigma                         :      3.000   +/-    0.00 deg         \n",
      "    e                     (frozen):      0.000                   \n",
      "    phi                   (frozen):      0.000       deg         \n",
      "\n",
      "Component 1: FoVBackgroundModel\n",
      "\n",
      "  Name                      : dataset-simu-bkg\n",
      "  Datasets names            : ['dataset-simu']\n",
      "  Spectral model type       : PowerLawNormSpectralModel\n",
      "  Parameters:\n",
      "    norm                          :      1.000   +/-    0.00             \n",
      "    tilt                  (frozen):      0.000                   \n",
      "    reference             (frozen):      1.000       TeV         \n",
      "\n",
      "\n",
      "components:\n",
      "-   name: Geminga-template-model\n",
      "    type: SkyModel\n",
      "    spectral:\n",
      "        type: PowerLawSpectralModel\n",
      "        parameters:\n",
      "        -   name: index\n",
      "            value: 2.0\n",
      "        -   name: amplitude\n",
      "            value: 1.0e-12\n",
      "            unit: cm-2 s-1 TeV-1\n",
      "        -   name: reference\n",
      "            value: 1.0\n",
      "            unit: TeV\n",
      "    spatial:\n",
      "        type: GaussianSpatialModel\n",
      "        frame: icrs\n",
      "        parameters:\n",
      "        -   name: lon_0\n",
      "            value: 98.4756375\n",
      "            unit: deg\n",
      "        -   name: lat_0\n",
      "            value: 17.7702528\n",
      "            unit: deg\n",
      "        -   name: sigma\n",
      "            value: 3.0\n",
      "            unit: deg\n",
      "        -   name: e\n",
      "            value: 0.0\n",
      "        -   name: phi\n",
      "            value: 0.0\n",
      "            unit: deg\n",
      "-   type: FoVBackgroundModel\n",
      "    datasets_names:\n",
      "    - dataset-simu\n",
      "    spectral:\n",
      "        type: PowerLawNormSpectralModel\n",
      "        parameters:\n",
      "        -   name: norm\n",
      "            value: 1.0\n",
      "        -   name: tilt\n",
      "            value: 0.0\n",
      "        -   name: reference\n",
      "            value: 1.0\n",
      "            unit: TeV\n",
      "\n"
     ]
    }
   ],
   "source": [
    "filename = \"allenergies_TeV.fits\"\n",
    "m = Map.read(filename)\n",
    "\n",
    "m = m.copy(unit=\"1 / (cm2 TeV s sr)\")\n",
    "\n",
    "# spatial_model = TemplateSpatialModel(m, filename=filename, normalize=False)\n",
    "spatial_model = GaussianSpatialModel(lon_0=source_coord.ra, lat_0=source_coord.dec, sigma=\"3 deg\", frame=\"icrs\")\n",
    "# Geminga_model = SkyModel(spectral_model=PowerLawNormSpectralModel(), spatial_model=spatial_model, name=\"Geminga-template-model\")\n",
    "Geminga_model = SkyModel(spectral_model=PowerLawSpectralModel(), spatial_model=spatial_model, name=\"Geminga-template-model\")\n",
    "\n",
    "# m.plot_grid()\n",
    "\n",
    "# bkg_spectral_model = PowerLawSpectralModel(\n",
    "#     index=2.7, amplitude=\"1e6 cm-2 s-1 TeV-1\", reference=\"1 TeV\")\n",
    "\n",
    "bkg_model = FoVBackgroundModel(dataset_name=\"dataset-simu\")\n",
    "#bkg_model = FoVBackgroundModel(spectral_model=bkg_spectral_model, dataset_name=\"dataset-simu\")\n",
    "\n",
    "#models = Models([bkg_model])\n",
    "models = Models([Geminga_model,bkg_model])\n",
    "print(models)\n",
    "\n",
    "print(models.to_yaml())"
   ]
  },
  {
   "cell_type": "code",
   "execution_count": 9,
   "metadata": {},
   "outputs": [
    {
     "name": "stdout",
     "output_type": "stream",
     "text": [
      "Observation\n",
      "\n",
      "\tobs id            : 0 \n",
      " \ttstart            : 51544.00\n",
      "\ttstop             : 51544.42\n",
      "\tduration          : 36000.00 s\n",
      "\tpointing (icrs)   : 98.5 deg, 17.8 deg\n",
      "\n",
      "\tdeadtime fraction : 0.0%\n",
      "\n",
      "making dataset\n",
      "dataset made!\n",
      "MapDataset\n",
      "----------\n",
      "\n",
      "  Name                            : dataset-simu \n",
      "\n",
      "  Total counts                    : 0 \n",
      "  Total background counts         : 401119.94\n",
      "  Total excess counts             : -401119.94\n",
      "\n",
      "  Predicted counts                : 401225.61\n",
      "  Predicted background counts     : 401119.94\n",
      "  Predicted excess counts         : 105.67\n",
      "\n",
      "  Exposure min                    : 5.80e+05 m2 s\n",
      "  Exposure max                    : 1.20e+11 m2 s\n",
      "\n",
      "  Number of total bins            : 30 \n",
      "  Number of fit bins              : 30 \n",
      "\n",
      "  Fit statistic type              : cash\n",
      "  Fit statistic value (-2 log(L)) : 802451.21\n",
      "\n",
      "  Number of models                : 2 \n",
      "  Number of parameters            : 11\n",
      "  Number of free parameters       : 6\n",
      "\n",
      "  Component 0: SkyModel\n",
      "  \n",
      "    Name                      : Geminga-template-model\n",
      "    Datasets names            : None\n",
      "    Spectral model type       : PowerLawSpectralModel\n",
      "    Spatial  model type       : GaussianSpatialModel\n",
      "    Temporal model type       : \n",
      "    Parameters:\n",
      "      index                         :      2.000   +/-    0.00             \n",
      "      amplitude                     :   1.00e-12   +/- 0.0e+00 1 / (cm2 s TeV)\n",
      "      reference             (frozen):      1.000       TeV         \n",
      "      lon_0                         :     98.476   +/-    0.00 deg         \n",
      "      lat_0                         :     17.770   +/-    0.00 deg         \n",
      "      sigma                         :      3.000   +/-    0.00 deg         \n",
      "      e                     (frozen):      0.000                   \n",
      "      phi                   (frozen):      0.000       deg         \n",
      "  \n",
      "  Component 1: FoVBackgroundModel\n",
      "  \n",
      "    Name                      : dataset-simu-bkg\n",
      "    Datasets names            : ['dataset-simu']\n",
      "    Spectral model type       : PowerLawNormSpectralModel\n",
      "    Parameters:\n",
      "      norm                          :      1.000   +/-    0.00             \n",
      "      tilt                  (frozen):      0.000                   \n",
      "      reference             (frozen):      1.000       TeV         \n",
      "  \n",
      "  \n"
     ]
    }
   ],
   "source": [
    "empty = MapDataset.create(geom, energy_axis_true=energy_axis_true, migra_axis=migra_axis, name=\"dataset-simu\")\n",
    "\n",
    "obs = Observation.create(pointing=pointing, livetime=livetime, irfs=irfs)\n",
    "print(obs)\n",
    "\n",
    "maker = MapDatasetMaker(selection=[\"exposure\", \"background\", \"psf\", \"edisp\"])\n",
    "\n",
    "# maker_safe_mask = SafeMaskMaker(methods=[\"offset-max\"], offset_max=5.0 * u.deg)\n",
    "\n",
    "print(\"making dataset\")\n",
    "dataset = maker.run(empty, obs)\n",
    "# dataset = maker_safe_mask.run(dataset, obs)\n",
    "print(\"dataset made!\")\n",
    "\n",
    "dataset.models = models\n",
    "\n",
    "print(dataset)\n"
   ]
  },
  {
   "cell_type": "code",
   "execution_count": 10,
   "metadata": {},
   "outputs": [],
   "source": [
    "dataset_on_off = MapDatasetOnOff.from_map_dataset(\n",
    "    dataset=dataset, acceptance=1, acceptance_off=5\n",
    ")\n",
    "\n",
    "dataset_spectrum_on_off = SpectrumDatasetOnOff.from_spectrum_dataset(\n",
    "    dataset=spectrum_dataset, acceptance=1, acceptance_off=5\n",
    ")"
   ]
  },
  {
   "cell_type": "code",
   "execution_count": 11,
   "metadata": {},
   "outputs": [
    {
     "data": {
      "text/plain": [
       "(30, 1, 1)"
      ]
     },
     "execution_count": 11,
     "metadata": {},
     "output_type": "execute_result"
    }
   ],
   "source": [
    "dataset_on_off.npred_signal().data.shape"
   ]
  },
  {
   "cell_type": "code",
   "execution_count": 12,
   "metadata": {},
   "outputs": [
    {
     "name": "stderr",
     "output_type": "stream",
     "text": [
      "/Users/sokolenko/opt/anaconda3/lib/python3.9/site-packages/scipy/optimize/zeros.py:341: RuntimeWarning: Tolerance of -8.263918971351814e-08 reached.\n",
      "  warnings.warn(msg, RuntimeWarning)\n",
      "/Users/sokolenko/opt/anaconda3/lib/python3.9/site-packages/scipy/optimize/zeros.py:341: RuntimeWarning: Tolerance of -2.1063215172034688e-08 reached.\n",
      "  warnings.warn(msg, RuntimeWarning)\n"
     ]
    }
   ],
   "source": [
    "sensitivity_estimator = SensitivityEstimator(\n",
    "    gamma_min=10, n_sigma=5, bkg_syst_fraction=0.10\n",
    ")\n",
    "sensitivity_table = sensitivity_estimator.run(dataset_on_off)"
   ]
  },
  {
   "cell_type": "code",
   "execution_count": 13,
   "metadata": {},
   "outputs": [],
   "source": [
    "\n",
    "spectrum_sensitivity_estimator = SensitivityEstimator(\n",
    "    gamma_min=10, n_sigma=5, bkg_syst_fraction=0.10, \n",
    "    # spectrum= PowerLawSpectralModel(index=2.7, amplitude=\"1 cm-2 s-1 TeV-1\")\n",
    "    # spectrum=Geminga_model.spectral_model\n",
    ")\n",
    "spectrum_sensitivity_table= spectrum_sensitivity_estimator.run(dataset_spectrum_on_off)"
   ]
  },
  {
   "cell_type": "code",
   "execution_count": 14,
   "metadata": {},
   "outputs": [],
   "source": [
    "emin_cta, flux_cta = np.loadtxt('CTA_point_source_left.txt',unpack=True) # E[TeV], E^2 * Flux Sensitivity [erg cm^2/s]\n",
    "emax_cta, flux_cta = np.loadtxt('CTA_point_source_right.txt',unpack=True)\n",
    "emean_cta, flux_cta = np.loadtxt('CTA_point_source_mean.txt',unpack=True)"
   ]
  },
  {
   "cell_type": "code",
   "execution_count": 15,
   "metadata": {},
   "outputs": [],
   "source": [
    "# check this out, data for \n",
    "# https://zenodo.org/record/5499840#.YUya5WYzbUI\n",
    "# https://docs.gammapy.org/1.0.1/tutorials/analysis-1d/cta_sensitivity.html?highlight=sensitivity"
   ]
  },
  {
   "cell_type": "code",
   "execution_count": 16,
   "metadata": {},
   "outputs": [
    {
     "data": {
      "text/html": [
       "<div><i>Table length=30</i>\n",
       "<table id=\"table140257688354528\" class=\"table-striped table-bordered table-condensed\">\n",
       "<thead><tr><th>energy</th><th>e2dnde</th><th>excess</th><th>background</th><th>criterion</th></tr></thead>\n",
       "<thead><tr><th>TeV</th><th>erg / (cm2 s)</th><th></th><th></th><th></th></tr></thead>\n",
       "<thead><tr><th>float64</th><th>float64</th><th>float64</th><th>float64</th><th>bytes12</th></tr></thead>\n",
       "<tr><td>0.0343428</td><td>2.36556e-09</td><td>1325.78</td><td>13257.8</td><td>bkg</td></tr>\n",
       "<tr><td>0.0450055</td><td>4.33315e-10</td><td>4293.39</td><td>42933.9</td><td>bkg</td></tr>\n",
       "<tr><td>0.0589786</td><td>1.61448e-10</td><td>7622.14</td><td>76221.4</td><td>bkg</td></tr>\n",
       "<tr><td>0.0772901</td><td>7.94648e-11</td><td>8947.85</td><td>89478.5</td><td>bkg</td></tr>\n",
       "<tr><td>0.101287</td><td>5.70894e-11</td><td>6929.69</td><td>69296.9</td><td>bkg</td></tr>\n",
       "<tr><td>0.132734</td><td>4.31448e-11</td><td>4182.91</td><td>41829.1</td><td>bkg</td></tr>\n",
       "<tr><td>0.173945</td><td>2.7664e-11</td><td>2361.41</td><td>23614.1</td><td>bkg</td></tr>\n",
       "<tr><td>0.227951</td><td>1.92256e-11</td><td>1448.49</td><td>14484.9</td><td>bkg</td></tr>\n",
       "<tr><td>0.298724</td><td>1.38947e-11</td><td>920.124</td><td>9201.24</td><td>bkg</td></tr>\n",
       "<tr><td>0.391471</td><td>9.71349e-12</td><td>608.994</td><td>6089.94</td><td>bkg</td></tr>\n",
       "<tr><td>...</td><td>...</td><td>...</td><td>...</td><td>...</td></tr>\n",
       "<tr><td>5.8478</td><td>4.30713e-12</td><td>97.2082</td><td>278.567</td><td>significance</td></tr>\n",
       "<tr><td>7.6634</td><td>3.98452e-12</td><td>86.5414</td><td>217.376</td><td>significance</td></tr>\n",
       "<tr><td>10.0427</td><td>4.29692e-12</td><td>75.4739</td><td>161.902</td><td>significance</td></tr>\n",
       "<tr><td>13.1607</td><td>4.08631e-12</td><td>62.5204</td><td>107.345</td><td>significance</td></tr>\n",
       "<tr><td>17.2468</td><td>5.10887e-12</td><td>53.7385</td><td>76.717</td><td>significance</td></tr>\n",
       "<tr><td>22.6016</td><td>6.63736e-12</td><td>50.5552</td><td>66.8839</td><td>significance</td></tr>\n",
       "<tr><td>29.6188</td><td>7.84592e-12</td><td>51.4258</td><td>69.5059</td><td>significance</td></tr>\n",
       "<tr><td>38.8148</td><td>1.01707e-11</td><td>52.5144</td><td>72.856</td><td>significance</td></tr>\n",
       "<tr><td>50.8659</td><td>1.89094e-11</td><td>47.4658</td><td>57.9861</td><td>significance</td></tr>\n",
       "<tr><td>66.6586</td><td>2.35633e-11</td><td>42.0263</td><td>43.8645</td><td>significance</td></tr>\n",
       "<tr><td>87.3545</td><td>6.41811e-11</td><td>40.4317</td><td>40.0982</td><td>significance</td></tr>\n",
       "</table></div>"
      ],
      "text/plain": [
       "<Table length=30>\n",
       "  energy      e2dnde     excess background  criterion  \n",
       "   TeV    erg / (cm2 s)                                \n",
       " float64     float64    float64  float64     bytes12   \n",
       "--------- ------------- ------- ---------- ------------\n",
       "0.0343428   2.36556e-09 1325.78    13257.8          bkg\n",
       "0.0450055   4.33315e-10 4293.39    42933.9          bkg\n",
       "0.0589786   1.61448e-10 7622.14    76221.4          bkg\n",
       "0.0772901   7.94648e-11 8947.85    89478.5          bkg\n",
       " 0.101287   5.70894e-11 6929.69    69296.9          bkg\n",
       " 0.132734   4.31448e-11 4182.91    41829.1          bkg\n",
       " 0.173945    2.7664e-11 2361.41    23614.1          bkg\n",
       " 0.227951   1.92256e-11 1448.49    14484.9          bkg\n",
       " 0.298724   1.38947e-11 920.124    9201.24          bkg\n",
       " 0.391471   9.71349e-12 608.994    6089.94          bkg\n",
       "      ...           ...     ...        ...          ...\n",
       "   5.8478   4.30713e-12 97.2082    278.567 significance\n",
       "   7.6634   3.98452e-12 86.5414    217.376 significance\n",
       "  10.0427   4.29692e-12 75.4739    161.902 significance\n",
       "  13.1607   4.08631e-12 62.5204    107.345 significance\n",
       "  17.2468   5.10887e-12 53.7385     76.717 significance\n",
       "  22.6016   6.63736e-12 50.5552    66.8839 significance\n",
       "  29.6188   7.84592e-12 51.4258    69.5059 significance\n",
       "  38.8148   1.01707e-11 52.5144     72.856 significance\n",
       "  50.8659   1.89094e-11 47.4658    57.9861 significance\n",
       "  66.6586   2.35633e-11 42.0263    43.8645 significance\n",
       "  87.3545   6.41811e-11 40.4317    40.0982 significance"
      ]
     },
     "metadata": {},
     "output_type": "display_data"
    },
    {
     "data": {
      "text/plain": [
       "<matplotlib.legend.Legend at 0x7f9049b0fe50>"
      ]
     },
     "execution_count": 16,
     "metadata": {},
     "output_type": "execute_result"
    },
    {
     "data": {
      "image/png": "[encoded data removed]",
      "text/plain": [
       "<Figure size 640x480 with 1 Axes>"
      ]
     },
     "metadata": {},
     "output_type": "display_data"
    }
   ],
   "source": [
    "# Show the results table\n",
    "display(sensitivity_table)\n",
    "\n",
    "# Save it to file (could use e.g. format of CSV or ECSV or FITS)\n",
    "# sensitivity_table.write('sensitivity.ecsv', format='ascii.ecsv')\n",
    "\n",
    "# Plot the sensitivity curve\n",
    "t = sensitivity_table\n",
    "\n",
    "is_s = t[\"criterion\"] == \"significance\"\n",
    "\n",
    "fig, ax = plt.subplots()\n",
    "ax.plot(\n",
    "    spectrum_sensitivity_table[\"energy\"],    \n",
    "    spectrum_sensitivity_table[\"e2dnde\"],\n",
    "    \"s-\",\n",
    "    color=\"black\",\n",
    "    label=\"spectrum dtaset\",\n",
    ")\n",
    "\n",
    "ax.plot(\n",
    "    t[\"energy\"][is_s],\n",
    "    t[\"e2dnde\"][is_s],\n",
    "    \"s-\",\n",
    "    color=\"red\",\n",
    "    label=\"significance\",\n",
    ")\n",
    "\n",
    "is_g = t[\"criterion\"] == \"gamma\"\n",
    "ax.plot(t[\"energy\"][is_g], t[\"e2dnde\"][is_g], \"*-\", color=\"blue\", label=\"gamma\")\n",
    "is_bkg_syst = t[\"criterion\"] == \"bkg\"\n",
    "ax.plot(\n",
    "    t[\"energy\"][is_bkg_syst],\n",
    "    t[\"e2dnde\"][is_bkg_syst],\n",
    "    \"v-\",\n",
    "    color=\"green\",\n",
    "    label=\"bkg syst\",\n",
    ")\n",
    "\n",
    "plt.errorbar(emean_cta[2:-1],flux_cta[2:-1],label='CTA point source 50h')\n",
    "\n",
    "\n",
    "ax.loglog()\n",
    "ax.set_xlabel(f\"Energy [{t['energy'].unit}]\")\n",
    "ax.set_ylabel(f\"Sensitivity [{t['e2dnde'].unit}]\")\n",
    "ax.legend()"
   ]
  },
  {
   "cell_type": "code",
   "execution_count": 17,
   "metadata": {},
   "outputs": [
    {
     "data": {
      "image/png": "[encoded data removed]",
      "text/plain": [
       "<Figure size 640x480 with 2 Axes>"
      ]
     },
     "metadata": {},
     "output_type": "display_data"
    }
   ],
   "source": [
    "# Plot expected number of counts for signal and background\n",
    "fig, ax1 = plt.subplots()\n",
    "# ax1.plot( t[\"energy\"], t[\"excess\"],\"o-\", color=\"red\", label=\"signal\")\n",
    "ax1.plot(t[\"energy\"], t[\"background\"], \"o-\", color=\"black\", label=\"blackground\")\n",
    "\n",
    "ax1.loglog()\n",
    "ax1.set_xlabel(f\"Energy [{t['energy'].unit}]\")\n",
    "ax1.set_ylabel(\"Expected number of bkg counts\")\n",
    "\n",
    "ax2 = ax1.twinx()\n",
    "ax2.set_ylabel(f\"ON region radius [{on_radii.unit}]\", color=\"red\")\n",
    "ax2.semilogy(t[\"energy\"], on_radii, color=\"red\", label=\"PSF68\")\n",
    "ax2.tick_params(axis=\"y\", labelcolor=\"red\")\n",
    "ax2.set_ylim(0.01, 0.5)\n",
    "plt.show()"
   ]
  },
  {
   "cell_type": "code",
   "execution_count": 18,
   "metadata": {},
   "outputs": [
    {
     "name": "stdout",
     "output_type": "stream",
     "text": [
      " excess\n",
      "-------\n",
      "1325.78\n",
      "4293.39\n",
      "7622.14\n",
      "8947.85\n",
      "6929.69\n",
      "4182.91\n",
      "2361.41\n",
      "1448.49\n",
      "920.124\n",
      "608.994\n",
      "422.507\n",
      "    ...\n",
      "109.882\n",
      "97.2082\n",
      "86.5414\n",
      "75.4739\n",
      "62.5204\n",
      "53.7385\n",
      "50.5552\n",
      "51.4258\n",
      "52.5144\n",
      "47.4658\n",
      "42.0263\n",
      "40.4317\n",
      "Length = 30 rows   energy \n",
      "   TeV   \n",
      "---------\n",
      "0.0343428\n",
      "0.0450055\n",
      "0.0589786\n",
      "0.0772901\n",
      " 0.101287\n",
      " 0.132734\n",
      " 0.173945\n",
      " 0.227951\n",
      " 0.298724\n",
      " 0.391471\n",
      " 0.513014\n",
      "      ...\n",
      "   5.8478\n",
      "   7.6634\n",
      "  10.0427\n",
      "  13.1607\n",
      "  17.2468\n",
      "  22.6016\n",
      "  29.6188\n",
      "  38.8148\n",
      "  50.8659\n",
      "  66.6586\n",
      "  87.3545\n",
      "Length = 30 rows\n"
     ]
    }
   ],
   "source": [
    "print(t[\"excess\"],t[\"energy\"])"
   ]
  },
  {
   "cell_type": "code",
   "execution_count": 19,
   "metadata": {},
   "outputs": [
    {
     "data": {
      "text/plain": [
       "astropy.table.column.Column"
      ]
     },
     "execution_count": 19,
     "metadata": {},
     "output_type": "execute_result"
    }
   ],
   "source": [
    "type(t[\"excess\"])"
   ]
  },
  {
   "cell_type": "code",
   "execution_count": 20,
   "metadata": {},
   "outputs": [],
   "source": [
    "excess_col = t[\"excess\"]\n",
    "energy_col = t[\"energy\"]\n",
    "\n",
    "with open(\"alpha15_model_N.dat\", \"w\") as f:\n",
    "    #f.write(\"# Excess and Energy column data\\n\")\n",
    "    for excess, energy in zip(excess_col, energy_col):\n",
    "        f.write(f\"{energy} {excess}\\n\")"
   ]
  },
  {
   "cell_type": "code",
   "execution_count": 21,
   "metadata": {},
   "outputs": [],
   "source": [
    "bg_col = t[\"background\"]\n",
    "energy_col = t[\"energy\"]\n",
    "\n",
    "with open(\"alpha15_model_N_CR.dat\", \"w\") as f:\n",
    "    #f.write(\"# Bg and Energy column data\\n\")\n",
    "    for bg, energy in zip(bg_col, energy_col):\n",
    "        f.write(f\"{energy} {bg}\\n\")"
   ]
  },
  {
   "cell_type": "code",
   "execution_count": null,
   "metadata": {},
   "outputs": [],
   "source": []
  }
 ],
 "metadata": {
  "kernelspec": {
   "display_name": "Python 3 (ipykernel)",
   "language": "python",
   "name": "python3"
  },
  "language_info": {
   "codemirror_mode": {
    "name": "ipython",
    "version": 3
   },
   "file_extension": ".py",
   "mimetype": "text/x-python",
   "name": "python",
   "nbconvert_exporter": "python",
   "pygments_lexer": "ipython3",
   "version": "3.9.13"
  },
  "vscode": {
   "interpreter": {
    "hash": "419ed76d54ec11b480b02b1198b8a710f16ee642638bf994c3be986cfc92170e"
   }
  }
 },
 "nbformat": 4,
 "nbformat_minor": 2
}
