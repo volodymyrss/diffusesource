{
 "cells": [
  {
   "cell_type": "code",
   "execution_count": 1,
   "metadata": {},
   "outputs": [],
   "source": [
    "import numpy as np\n",
    "import astropy.units as u\n",
    "from astropy.coordinates import SkyCoord\n",
    "\n",
    "# %matplotlib inline\n",
    "import matplotlib.pyplot as plt\n",
    "\n",
    "from IPython.display import display\n",
    "from gammapy.data import Observation, observatory_locations\n",
    "from gammapy.datasets import SpectrumDataset, SpectrumDatasetOnOff, MapDataset, MapDatasetOnOff\n",
    "from gammapy.estimators import SensitivityEstimator\n",
    "from gammapy.irf import load_cta_irfs\n",
    "from gammapy.makers import SpectrumDatasetMaker, MapDatasetMaker\n",
    "from gammapy.maps import MapAxis, RegionGeom, Map, WcsGeom\n",
    "from gammapy.modeling.models import (\n",
    "    TemplateSpatialModel, PowerLawNormSpectralModel, SkyModel, FoVBackgroundModel, Models, \n",
    "    PowerLawSpectralModel, GaussianSpatialModel\n",
    ")"
   ]
  },
  {
   "cell_type": "code",
   "execution_count": 2,
   "metadata": {},
   "outputs": [],
   "source": [
    "from gammapy.utils.check import check_tutorials_setup\n",
    "\n",
    "# check_tutorials_setup()"
   ]
  },
  {
   "cell_type": "code",
   "execution_count": 3,
   "metadata": {},
   "outputs": [],
   "source": [
    "energy_axis = MapAxis.from_energy_bounds(\"0.03 TeV\", \"30 TeV\", nbin=20)\n",
    "energy_axis_true = MapAxis.from_energy_bounds(\n",
    "    \"0.01 TeV\", \"100 TeV\", nbin=100, name=\"energy_true\"\n",
    ")\n",
    "migra_axis = MapAxis.from_bounds(\n",
    "    0.5, 2, nbin=150, node_type=\"edges\", name=\"migra\"\n",
    ")\n",
    "\n",
    "\n",
    "\n",
    "livetime = 50.0 * u.hr\n",
    "\n",
    "source_coord = SkyCoord.from_name(\"Geminga\")\n",
    "\n",
    "geom = RegionGeom.create(f\"icrs;circle({source_coord.ra.deg - 0.1}, {source_coord.dec.deg}, 1)\", axes=[energy_axis])\n",
    "# geom = RegionGeom.create(f\"icrs;circle({source_coord.ra.deg - 0.1}, {source_coord.dec.deg}, 100)\", axes=[energy_axis], binsz_wcs=0.02 * u.deg)\n",
    "\n",
    "pointing = source_coord\n",
    "\n",
    "\n",
    "# geom = WcsGeom.create(\n",
    "#     skydir=pointing,\n",
    "#     width=(2, 2),\n",
    "#     binsz=0.02,\n",
    "#     frame=\"icrs\",\n",
    "#     axes=[energy_axis],\n",
    "# )\n",
    "\n",
    "empty_dataset = SpectrumDataset.create(geom=geom, energy_axis_true=energy_axis_true)"
   ]
  },
  {
   "cell_type": "code",
   "execution_count": 4,
   "metadata": {},
   "outputs": [
    {
     "data": {
      "text/plain": [
       "RegionGeom\n",
       "\n",
       "\tregion     : CircleSkyRegion\n",
       "\taxes       : ['lon', 'lat', 'energy']\n",
       "\tshape      : (1, 1, 20)\n",
       "\tndim       : 3\n",
       "\tframe      : icrs\n",
       "\tcenter     : 98.4 deg, 17.8 deg"
      ]
     },
     "execution_count": 4,
     "metadata": {},
     "output_type": "execute_result"
    }
   ],
   "source": [
    "geom"
   ]
  },
  {
   "cell_type": "code",
   "execution_count": 5,
   "metadata": {},
   "outputs": [],
   "source": [
    "irfs = load_cta_irfs(\n",
    "    # \"$GAMMAPY_DATA/1.0/cta-1dc/caldb/data/cta/1dc/bcf/South_z20_50h/irf_file.fits\",\n",
    "    \"./Prod5-South-20deg-SouthAz-14MSTs37SSTs.18000s-v0.1.fits.gz\"\n",
    "    # \"$GAMMAPY_DATA/1.0/cta-caldb/Prod5-South-20deg-AverageAz-14MSTs37SSTs.180000s-v0.1.fits.gz\"\n",
    ")\n",
    "location = observatory_locations[\"cta_south\"]\n",
    "pointing = SkyCoord.from_name(\"Geminga\")\n"
   ]
  },
  {
   "cell_type": "code",
   "execution_count": 6,
   "metadata": {},
   "outputs": [],
   "source": [
    "obs = Observation.create(\n",
    "    pointing=pointing, irfs=irfs, livetime=livetime, location=location\n",
    ")\n",
    "\n",
    "spectrum_maker = SpectrumDatasetMaker(selection=[\"exposure\", \"edisp\", \"background\"])\n",
    "spectrum_dataset = spectrum_maker.run(empty_dataset, obs)\n",
    "\n",
    "containment = 0.68\n",
    "\n",
    "# correct exposure\n",
    "spectrum_dataset.exposure *= containment\n",
    "\n",
    "# correct background estimation\n",
    "on_radii = obs.psf.containment_radius(\n",
    "    energy_true=energy_axis.center, offset=0.5 * u.deg, fraction=containment\n",
    ")\n",
    "factor = (1 - np.cos(on_radii)) / (1 - np.cos(geom.region.radius))\n",
    "spectrum_dataset.background *= factor.value.reshape((-1, 1, 1))\n"
   ]
  },
  {
   "cell_type": "code",
   "execution_count": 7,
   "metadata": {},
   "outputs": [
    {
     "name": "stdout",
     "output_type": "stream",
     "text": [
      "SpectrumDataset\n",
      "---------------\n",
      "\n",
      "  Name                            : n7O-dp2S \n",
      "\n",
      "  Total counts                    : 0 \n",
      "  Total background counts         : 78116.96\n",
      "  Total excess counts             : -78116.96\n",
      "\n",
      "  Predicted counts                : 78116.96\n",
      "  Predicted background counts     : 78116.96\n",
      "  Predicted excess counts         : nan\n",
      "\n",
      "  Exposure min                    : 1.97e+06 m2 s\n",
      "  Exposure max                    : 4.08e+11 m2 s\n",
      "\n",
      "  Number of total bins            : 20 \n",
      "  Number of fit bins              : 20 \n",
      "\n",
      "  Fit statistic type              : cash\n",
      "  Fit statistic value (-2 log(L)) : nan\n",
      "\n",
      "  Number of models                : 0 \n",
      "  Number of parameters            : 0\n",
      "  Number of free parameters       : 0\n",
      "\n",
      "\n"
     ]
    }
   ],
   "source": [
    "print(spectrum_dataset)"
   ]
  },
  {
   "cell_type": "code",
   "execution_count": 8,
   "metadata": {},
   "outputs": [
    {
     "name": "stdout",
     "output_type": "stream",
     "text": [
      "Models\n",
      "\n",
      "Component 0: SkyModel\n",
      "\n",
      "  Name                      : Geminga-template-model\n",
      "  Datasets names            : None\n",
      "  Spectral model type       : PowerLawSpectralModel\n",
      "  Spatial  model type       : GaussianSpatialModel\n",
      "  Temporal model type       : \n",
      "  Parameters:\n",
      "    index                         :      2.000   +/-    0.00             \n",
      "    amplitude                     :   1.00e-12   +/- 0.0e+00 1 / (cm2 s TeV)\n",
      "    reference             (frozen):      1.000       TeV         \n",
      "    lon_0                         :     98.476   +/-    0.00 deg         \n",
      "    lat_0                         :     17.770   +/-    0.00 deg         \n",
      "    sigma                         :      3.000   +/-    0.00 deg         \n",
      "    e                     (frozen):      0.000                   \n",
      "    phi                   (frozen):      0.000       deg         \n",
      "\n",
      "Component 1: FoVBackgroundModel\n",
      "\n",
      "  Name                      : dataset-simu-bkg\n",
      "  Datasets names            : ['dataset-simu']\n",
      "  Spectral model type       : PowerLawNormSpectralModel\n",
      "  Parameters:\n",
      "    norm                          :      1.000   +/-    0.00             \n",
      "    tilt                  (frozen):      0.000                   \n",
      "    reference             (frozen):      1.000       TeV         \n",
      "\n",
      "\n",
      "components:\n",
      "-   name: Geminga-template-model\n",
      "    type: SkyModel\n",
      "    spectral:\n",
      "        type: PowerLawSpectralModel\n",
      "        parameters:\n",
      "        -   name: index\n",
      "            value: 2.0\n",
      "        -   name: amplitude\n",
      "            value: 1.0e-12\n",
      "            unit: cm-2 s-1 TeV-1\n",
      "        -   name: reference\n",
      "            value: 1.0\n",
      "            unit: TeV\n",
      "    spatial:\n",
      "        type: GaussianSpatialModel\n",
      "        frame: icrs\n",
      "        parameters:\n",
      "        -   name: lon_0\n",
      "            value: 98.4756375\n",
      "            unit: deg\n",
      "        -   name: lat_0\n",
      "            value: 17.77025278\n",
      "            unit: deg\n",
      "        -   name: sigma\n",
      "            value: 3.0\n",
      "            unit: deg\n",
      "        -   name: e\n",
      "            value: 0.0\n",
      "        -   name: phi\n",
      "            value: 0.0\n",
      "            unit: deg\n",
      "-   type: FoVBackgroundModel\n",
      "    datasets_names:\n",
      "    - dataset-simu\n",
      "    spectral:\n",
      "        type: PowerLawNormSpectralModel\n",
      "        parameters:\n",
      "        -   name: norm\n",
      "            value: 1.0\n",
      "        -   name: tilt\n",
      "            value: 0.0\n",
      "        -   name: reference\n",
      "            value: 1.0\n",
      "            unit: TeV\n",
      "\n"
     ]
    }
   ],
   "source": [
    "filename = \"allenergies_TeV.fits\"\n",
    "m = Map.read(filename)\n",
    "\n",
    "m = m.copy(unit=\"1 / (cm2 TeV s sr)\")\n",
    "\n",
    "# spatial_model = TemplateSpatialModel(m, filename=filename, normalize=False)\n",
    "spatial_model = GaussianSpatialModel(lon_0=source_coord.ra, lat_0=source_coord.dec, sigma=\"3 deg\", frame=\"icrs\")\n",
    "# Geminga_model = SkyModel(spectral_model=PowerLawNormSpectralModel(), spatial_model=spatial_model, name=\"Geminga-template-model\")\n",
    "Geminga_model = SkyModel(spectral_model=PowerLawSpectralModel(), spatial_model=spatial_model, name=\"Geminga-template-model\")\n",
    "\n",
    "# m.plot_grid()\n",
    "\n",
    "# bkg_spectral_model = PowerLawSpectralModel(\n",
    "#     index=2.7, amplitude=\"1e6 cm-2 s-1 TeV-1\", reference=\"1 TeV\")\n",
    "\n",
    "bkg_model = FoVBackgroundModel(dataset_name=\"dataset-simu\")\n",
    "#bkg_model = FoVBackgroundModel(spectral_model=bkg_spectral_model, dataset_name=\"dataset-simu\")\n",
    "\n",
    "#models = Models([bkg_model])\n",
    "models = Models([Geminga_model,bkg_model])\n",
    "print(models)\n",
    "\n",
    "print(models.to_yaml())"
   ]
  },
  {
   "cell_type": "code",
   "execution_count": 9,
   "metadata": {},
   "outputs": [
    {
     "name": "stdout",
     "output_type": "stream",
     "text": [
      "Observation\n",
      "\n",
      "\tobs id            : 0 \n",
      " \ttstart            : 51544.00\n",
      "\ttstop             : 51546.08\n",
      "\tduration          : 180000.00 s\n",
      "\tpointing (icrs)   : 98.5 deg, 17.8 deg\n",
      "\n",
      "\tdeadtime fraction : 0.0%\n",
      "\n",
      "making dataset\n",
      "dataset made!\n",
      "MapDataset\n",
      "----------\n",
      "\n",
      "  Name                            : dataset-simu \n",
      "\n",
      "  Total counts                    : 0 \n",
      "  Total background counts         : 1976581.53\n",
      "  Total excess counts             : -1976581.53\n",
      "\n",
      "  Predicted counts                : 1977104.39\n",
      "  Predicted background counts     : 1976581.53\n",
      "  Predicted excess counts         : 522.87\n",
      "\n",
      "  Exposure min                    : 2.90e+06 m2 s\n",
      "  Exposure max                    : 6.00e+11 m2 s\n",
      "\n",
      "  Number of total bins            : 20 \n",
      "  Number of fit bins              : 20 \n",
      "\n",
      "  Fit statistic type              : cash\n",
      "  Fit statistic value (-2 log(L)) : 3954208.79\n",
      "\n",
      "  Number of models                : 2 \n",
      "  Number of parameters            : 11\n",
      "  Number of free parameters       : 6\n",
      "\n",
      "  Component 0: SkyModel\n",
      "  \n",
      "    Name                      : Geminga-template-model\n",
      "    Datasets names            : None\n",
      "    Spectral model type       : PowerLawSpectralModel\n",
      "    Spatial  model type       : GaussianSpatialModel\n",
      "    Temporal model type       : \n",
      "    Parameters:\n",
      "      index                         :      2.000   +/-    0.00             \n",
      "      amplitude                     :   1.00e-12   +/- 0.0e+00 1 / (cm2 s TeV)\n",
      "      reference             (frozen):      1.000       TeV         \n",
      "      lon_0                         :     98.476   +/-    0.00 deg         \n",
      "      lat_0                         :     17.770   +/-    0.00 deg         \n",
      "      sigma                         :      3.000   +/-    0.00 deg         \n",
      "      e                     (frozen):      0.000                   \n",
      "      phi                   (frozen):      0.000       deg         \n",
      "  \n",
      "  Component 1: FoVBackgroundModel\n",
      "  \n",
      "    Name                      : dataset-simu-bkg\n",
      "    Datasets names            : ['dataset-simu']\n",
      "    Spectral model type       : PowerLawNormSpectralModel\n",
      "    Parameters:\n",
      "      norm                          :      1.000   +/-    0.00             \n",
      "      tilt                  (frozen):      0.000                   \n",
      "      reference             (frozen):      1.000       TeV         \n",
      "  \n",
      "  \n"
     ]
    }
   ],
   "source": [
    "empty = MapDataset.create(geom, energy_axis_true=energy_axis_true, migra_axis=migra_axis, name=\"dataset-simu\")\n",
    "\n",
    "obs = Observation.create(pointing=pointing, livetime=livetime, irfs=irfs)\n",
    "print(obs)\n",
    "\n",
    "maker = MapDatasetMaker(selection=[\"exposure\", \"background\", \"psf\", \"edisp\"])\n",
    "\n",
    "# maker_safe_mask = SafeMaskMaker(methods=[\"offset-max\"], offset_max=5.0 * u.deg)\n",
    "\n",
    "print(\"making dataset\")\n",
    "dataset = maker.run(empty, obs)\n",
    "# dataset = maker_safe_mask.run(dataset, obs)\n",
    "print(\"dataset made!\")\n",
    "\n",
    "dataset.models = models\n",
    "\n",
    "print(dataset)\n"
   ]
  },
  {
   "cell_type": "code",
   "execution_count": 10,
   "metadata": {},
   "outputs": [],
   "source": [
    "dataset_on_off = MapDatasetOnOff.from_map_dataset(\n",
    "    dataset=dataset, acceptance=1, acceptance_off=5\n",
    ")\n",
    "\n",
    "dataset_spectrum_on_off = SpectrumDatasetOnOff.from_spectrum_dataset(\n",
    "    dataset=spectrum_dataset, acceptance=1, acceptance_off=5\n",
    ")"
   ]
  },
  {
   "cell_type": "code",
   "execution_count": 11,
   "metadata": {},
   "outputs": [
    {
     "data": {
      "text/plain": [
       "(20, 1, 1)"
      ]
     },
     "execution_count": 11,
     "metadata": {},
     "output_type": "execute_result"
    }
   ],
   "source": [
    "dataset_on_off.npred_signal().data.shape"
   ]
  },
  {
   "cell_type": "code",
   "execution_count": 12,
   "metadata": {},
   "outputs": [
    {
     "name": "stderr",
     "output_type": "stream",
     "text": [
      "/home/savchenk/miniconda-recent/envs/gammapy-1.0.1/lib/python3.9/site-packages/scipy/optimize/_zeros_py.py:349: RuntimeWarning: Tolerance of -6.469217623816803e-07 reached.\n",
      "  warnings.warn(msg, RuntimeWarning)\n"
     ]
    }
   ],
   "source": [
    "sensitivity_estimator = SensitivityEstimator(\n",
    "    gamma_min=10, n_sigma=5, bkg_syst_fraction=0.10\n",
    ")\n",
    "sensitivity_table = sensitivity_estimator.run(dataset_on_off)"
   ]
  },
  {
   "cell_type": "code",
   "execution_count": 13,
   "metadata": {},
   "outputs": [],
   "source": [
    "\n",
    "spectrum_sensitivity_estimator = SensitivityEstimator(\n",
    "    gamma_min=10, n_sigma=5, bkg_syst_fraction=0.10, \n",
    "    # spectrum= PowerLawSpectralModel(index=2.7, amplitude=\"1 cm-2 s-1 TeV-1\")\n",
    "    # spectrum=Geminga_model.spectral_model\n",
    ")\n",
    "spectrum_sensitivity_table= spectrum_sensitivity_estimator.run(dataset_spectrum_on_off)"
   ]
  },
  {
   "cell_type": "code",
   "execution_count": 14,
   "metadata": {},
   "outputs": [],
   "source": [
    "emin_cta, flux_cta = np.loadtxt('CTA_point_source_left.txt',unpack=True) # E[TeV], E^2 * Flux Sensitivity [erg cm^2/s]\n",
    "emax_cta, flux_cta = np.loadtxt('CTA_point_source_right.txt',unpack=True)\n",
    "emean_cta, flux_cta = np.loadtxt('CTA_point_source_mean.txt',unpack=True)"
   ]
  },
  {
   "cell_type": "code",
   "execution_count": 15,
   "metadata": {},
   "outputs": [],
   "source": [
    "# check this out, data for \n",
    "# https://zenodo.org/record/5499840#.YUya5WYzbUI\n",
    "# https://docs.gammapy.org/1.0.1/tutorials/analysis-1d/cta_sensitivity.html?highlight=sensitivity"
   ]
  },
  {
   "cell_type": "code",
   "execution_count": 16,
   "metadata": {},
   "outputs": [
    {
     "data": {
      "text/html": [
       "<div><i>Table length=20</i>\n",
       "<table id=\"table140403676757248\" class=\"table-striped table-bordered table-condensed\">\n",
       "<thead><tr><th>energy</th><th>e2dnde</th><th>excess</th><th>background</th><th>criterion</th></tr></thead>\n",
       "<thead><tr><th>TeV</th><th>erg / (cm2 s)</th><th></th><th></th><th></th></tr></thead>\n",
       "<thead><tr><th>float64</th><th>float64</th><th>float64</th><th>float64</th><th>bytes12</th></tr></thead>\n",
       "<tr><td>0.0356551</td><td>1.17575e-09</td><td>9904.51</td><td>99045.1</td><td>bkg</td></tr>\n",
       "<tr><td>0.0503641</td><td>2.85182e-10</td><td>37351.3</td><td>373513</td><td>bkg</td></tr>\n",
       "<tr><td>0.0711412</td><td>9.18974e-11</td><td>54979.5</td><td>549795</td><td>bkg</td></tr>\n",
       "<tr><td>0.10049</td><td>5.57002e-11</td><td>43348.5</td><td>433485</td><td>bkg</td></tr>\n",
       "<tr><td>0.141945</td><td>3.9218e-11</td><td>23442.1</td><td>234421</td><td>bkg</td></tr>\n",
       "<tr><td>0.200503</td><td>2.33961e-11</td><td>11647.2</td><td>116472</td><td>bkg</td></tr>\n",
       "<tr><td>0.283218</td><td>1.44538e-11</td><td>6462.78</td><td>64627.8</td><td>bkg</td></tr>\n",
       "<tr><td>0.400056</td><td>9.72323e-12</td><td>3809.91</td><td>38099.1</td><td>bkg</td></tr>\n",
       "<tr><td>0.565095</td><td>6.01811e-12</td><td>2375.5</td><td>23755</td><td>bkg</td></tr>\n",
       "<tr><td>0.798218</td><td>3.92622e-12</td><td>1446.35</td><td>14463.5</td><td>bkg</td></tr>\n",
       "<tr><td>1.12751</td><td>2.47238e-12</td><td>883.149</td><td>8831.49</td><td>bkg</td></tr>\n",
       "<tr><td>1.59265</td><td>1.81874e-12</td><td>593.354</td><td>5933.54</td><td>bkg</td></tr>\n",
       "<tr><td>2.24968</td><td>1.51669e-12</td><td>422.526</td><td>4225.26</td><td>bkg</td></tr>\n",
       "<tr><td>3.17776</td><td>1.45884e-12</td><td>312.178</td><td>3121.78</td><td>bkg</td></tr>\n",
       "<tr><td>4.48871</td><td>1.51598e-12</td><td>268.05</td><td>2292.2</td><td>significance</td></tr>\n",
       "<tr><td>6.34047</td><td>1.50735e-12</td><td>228.718</td><td>1656.2</td><td>significance</td></tr>\n",
       "<tr><td>8.95615</td><td>1.62447e-12</td><td>194.125</td><td>1182.07</td><td>significance</td></tr>\n",
       "<tr><td>12.6509</td><td>1.61666e-12</td><td>154.682</td><td>738.798</td><td>significance</td></tr>\n",
       "<tr><td>17.8699</td><td>1.97117e-12</td><td>126.218</td><td>483.348</td><td>significance</td></tr>\n",
       "<tr><td>25.2419</td><td>2.57446e-12</td><td>120.619</td><td>439.451</td><td>significance</td></tr>\n",
       "</table></div>"
      ],
      "text/plain": [
       "<Table length=20>\n",
       "  energy      e2dnde     excess background  criterion  \n",
       "   TeV    erg / (cm2 s)                                \n",
       " float64     float64    float64  float64     bytes12   \n",
       "--------- ------------- ------- ---------- ------------\n",
       "0.0356551   1.17575e-09 9904.51    99045.1          bkg\n",
       "0.0503641   2.85182e-10 37351.3     373513          bkg\n",
       "0.0711412   9.18974e-11 54979.5     549795          bkg\n",
       "  0.10049   5.57002e-11 43348.5     433485          bkg\n",
       " 0.141945    3.9218e-11 23442.1     234421          bkg\n",
       " 0.200503   2.33961e-11 11647.2     116472          bkg\n",
       " 0.283218   1.44538e-11 6462.78    64627.8          bkg\n",
       " 0.400056   9.72323e-12 3809.91    38099.1          bkg\n",
       " 0.565095   6.01811e-12  2375.5      23755          bkg\n",
       " 0.798218   3.92622e-12 1446.35    14463.5          bkg\n",
       "  1.12751   2.47238e-12 883.149    8831.49          bkg\n",
       "  1.59265   1.81874e-12 593.354    5933.54          bkg\n",
       "  2.24968   1.51669e-12 422.526    4225.26          bkg\n",
       "  3.17776   1.45884e-12 312.178    3121.78          bkg\n",
       "  4.48871   1.51598e-12  268.05     2292.2 significance\n",
       "  6.34047   1.50735e-12 228.718     1656.2 significance\n",
       "  8.95615   1.62447e-12 194.125    1182.07 significance\n",
       "  12.6509   1.61666e-12 154.682    738.798 significance\n",
       "  17.8699   1.97117e-12 126.218    483.348 significance\n",
       "  25.2419   2.57446e-12 120.619    439.451 significance"
      ]
     },
     "metadata": {},
     "output_type": "display_data"
    },
    {
     "data": {
      "text/plain": [
       "<matplotlib.legend.Legend at 0x7fb2473045e0>"
      ]
     },
     "execution_count": 16,
     "metadata": {},
     "output_type": "execute_result"
    },
    {
     "data": {
      "image/png": "[encoded data removed]",
      "text/plain": [
       "<Figure size 640x480 with 1 Axes>"
      ]
     },
     "metadata": {},
     "output_type": "display_data"
    }
   ],
   "source": [
    "# Show the results table\n",
    "display(sensitivity_table)\n",
    "\n",
    "# Save it to file (could use e.g. format of CSV or ECSV or FITS)\n",
    "# sensitivity_table.write('sensitivity.ecsv', format='ascii.ecsv')\n",
    "\n",
    "# Plot the sensitivity curve\n",
    "t = sensitivity_table\n",
    "\n",
    "is_s = t[\"criterion\"] == \"significance\"\n",
    "\n",
    "fig, ax = plt.subplots()\n",
    "ax.plot(\n",
    "    spectrum_sensitivity_table[\"energy\"],    \n",
    "    spectrum_sensitivity_table[\"e2dnde\"],\n",
    "    \"s-\",\n",
    "    color=\"black\",\n",
    "    label=\"spectrum dtaset\",\n",
    ")\n",
    "\n",
    "ax.plot(\n",
    "    t[\"energy\"][is_s],\n",
    "    t[\"e2dnde\"][is_s],\n",
    "    \"s-\",\n",
    "    color=\"red\",\n",
    "    label=\"significance\",\n",
    ")\n",
    "\n",
    "is_g = t[\"criterion\"] == \"gamma\"\n",
    "ax.plot(t[\"energy\"][is_g], t[\"e2dnde\"][is_g], \"*-\", color=\"blue\", label=\"gamma\")\n",
    "is_bkg_syst = t[\"criterion\"] == \"bkg\"\n",
    "ax.plot(\n",
    "    t[\"energy\"][is_bkg_syst],\n",
    "    t[\"e2dnde\"][is_bkg_syst],\n",
    "    \"v-\",\n",
    "    color=\"green\",\n",
    "    label=\"bkg syst\",\n",
    ")\n",
    "\n",
    "plt.errorbar(emean_cta[2:-1],flux_cta[2:-1],label='CTA point source 50h')\n",
    "\n",
    "\n",
    "ax.loglog()\n",
    "ax.set_xlabel(f\"Energy [{t['energy'].unit}]\")\n",
    "ax.set_ylabel(f\"Sensitivity [{t['e2dnde'].unit}]\")\n",
    "ax.legend()"
   ]
  },
  {
   "cell_type": "code",
   "execution_count": 17,
   "metadata": {},
   "outputs": [
    {
     "data": {
      "image/png": "[encoded data removed]",
      "text/plain": [
       "<Figure size 640x480 with 2 Axes>"
      ]
     },
     "metadata": {},
     "output_type": "display_data"
    }
   ],
   "source": [
    "# Plot expected number of counts for signal and background\n",
    "fig, ax1 = plt.subplots()\n",
    "# ax1.plot( t[\"energy\"], t[\"excess\"],\"o-\", color=\"red\", label=\"signal\")\n",
    "ax1.plot(t[\"energy\"], t[\"background\"], \"o-\", color=\"black\", label=\"blackground\")\n",
    "\n",
    "ax1.loglog()\n",
    "ax1.set_xlabel(f\"Energy [{t['energy'].unit}]\")\n",
    "ax1.set_ylabel(\"Expected number of bkg counts\")\n",
    "\n",
    "ax2 = ax1.twinx()\n",
    "ax2.set_ylabel(f\"ON region radius [{on_radii.unit}]\", color=\"red\")\n",
    "ax2.semilogy(t[\"energy\"], on_radii, color=\"red\", label=\"PSF68\")\n",
    "ax2.tick_params(axis=\"y\", labelcolor=\"red\")\n",
    "ax2.set_ylim(0.01, 0.5)\n",
    "plt.show()"
   ]
  }
 ],
 "metadata": {
  "kernelspec": {
   "display_name": "gammapy-1.0.1",
   "language": "python",
   "name": "python3"
  },
  "language_info": {
   "codemirror_mode": {
    "name": "ipython",
    "version": 3
   },
   "file_extension": ".py",
   "mimetype": "text/x-python",
   "name": "python",
   "nbconvert_exporter": "python",
   "pygments_lexer": "ipython3",
   "version": "3.9.16"
  },
  "orig_nbformat": 4,
  "vscode": {
   "interpreter": {
    "hash": "419ed76d54ec11b480b02b1198b8a710f16ee642638bf994c3be986cfc92170e"
   }
  }
 },
 "nbformat": 4,
 "nbformat_minor": 2
}
