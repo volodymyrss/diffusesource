{
 "cells": [
  {
   "cell_type": "code",
   "execution_count": 1,
   "metadata": {},
   "outputs": [],
   "source": [
    "import numpy as np\n",
    "import astropy.units as u\n",
    "from astropy.coordinates import SkyCoord\n",
    "\n",
    "# %matplotlib inline\n",
    "import matplotlib.pyplot as plt\n",
    "\n",
    "from IPython.display import display\n",
    "from gammapy.data import Observation, observatory_locations\n",
    "from gammapy.datasets import SpectrumDataset, SpectrumDatasetOnOff, MapDataset, MapDatasetOnOff\n",
    "from gammapy.estimators import SensitivityEstimator\n",
    "from gammapy.irf import load_cta_irfs\n",
    "from gammapy.makers import SpectrumDatasetMaker, MapDatasetMaker\n",
    "from gammapy.maps import MapAxis, RegionGeom, Map, WcsGeom, RegionNDMap\n",
    "from gammapy.modeling.models import (\n",
    "    TemplateSpatialModel, PowerLawNormSpectralModel, SkyModel, FoVBackgroundModel, Models, \n",
    "    PowerLawSpectralModel, GaussianSpatialModel\n",
    ")"
   ]
  },
  {
   "cell_type": "code",
   "execution_count": 2,
   "metadata": {},
   "outputs": [
    {
     "data": {
      "text/plain": [
       "WcsGeom\n",
       "\n",
       "\taxes       : ['lon', 'lat', 'energy', 'energy_true']\n",
       "\tshape      : (100, 100, 20, 100)\n",
       "\tndim       : 4\n",
       "\tframe      : icrs\n",
       "\tprojection : CAR\n",
       "\tcenter     : 98.5 deg, 17.8 deg\n",
       "\twidth      : 2.0 deg x 2.0 deg\n",
       "\twcs ref    : 98.5 deg, 17.8 deg"
      ]
     },
     "execution_count": 2,
     "metadata": {},
     "output_type": "execute_result"
    }
   ],
   "source": [
    "energy_axis = MapAxis.from_energy_bounds(\"0.03 TeV\", \"30 TeV\", nbin=20)\n",
    "energy_axis_true = MapAxis.from_energy_bounds(\n",
    "    \"0.01 TeV\", \"100 TeV\", nbin=100, name=\"energy_true\"\n",
    ")\n",
    "migra_axis = MapAxis.from_bounds(\n",
    "    0.5, 2, nbin=150, node_type=\"edges\", name=\"migra\"\n",
    ")\n",
    "\n",
    "\n",
    "\n",
    "livetime = 50.0 * u.hr\n",
    "\n",
    "source_coord = SkyCoord.from_name(\"Geminga\")\n",
    "\n",
    "# geom = RegionGeom.create(\n",
    "#     f\"icrs;circle({source_coord.ra.deg - 0.1}, {source_coord.dec.deg}, 10)\", \n",
    "#     # binsz_wcs=0.02 * u.deg,\n",
    "#     axes=[energy_axis])\n",
    "# geom = RegionGeom.create(f\"icrs;circle({source_coord.ra.deg - 0.1}, {source_coord.dec.deg}, 100)\", axes=[energy_axis], binsz_wcs=0.02 * u.deg)\n",
    "\n",
    "pointing = source_coord\n",
    "\n",
    "\n",
    "geom = WcsGeom.create(\n",
    "    skydir=pointing,\n",
    "    width=(2, 2),\n",
    "    binsz=0.02,\n",
    "    frame=\"icrs\",\n",
    "    axes=[energy_axis, energy_axis_true],\n",
    ")\n",
    "\n",
    "empty_dataset = SpectrumDataset.create(geom=geom, energy_axis_true=energy_axis_true)\n",
    "\n",
    "geom"
   ]
  },
  {
   "cell_type": "code",
   "execution_count": 3,
   "metadata": {},
   "outputs": [
    {
     "data": {
      "text/plain": [
       "WcsGeom\n",
       "\n",
       "\taxes       : ['lon', 'lat', 'energy', 'energy_true']\n",
       "\tshape      : (100, 100, 20, 100)\n",
       "\tndim       : 4\n",
       "\tframe      : icrs\n",
       "\tprojection : CAR\n",
       "\tcenter     : 98.5 deg, 17.8 deg\n",
       "\twidth      : 2.0 deg x 2.0 deg\n",
       "\twcs ref    : 98.5 deg, 17.8 deg"
      ]
     },
     "execution_count": 3,
     "metadata": {},
     "output_type": "execute_result"
    }
   ],
   "source": [
    "geom"
   ]
  },
  {
   "cell_type": "code",
   "execution_count": 4,
   "metadata": {},
   "outputs": [],
   "source": [
    "irfs = load_cta_irfs(\n",
    "    # \"$GAMMAPY_DATA/1.0/cta-1dc/caldb/data/cta/1dc/bcf/South_z20_50h/irf_file.fits\",\n",
    "    \"./Prod5-South-20deg-SouthAz-14MSTs37SSTs.18000s-v0.1.fits.gz\"\n",
    "    # \"$GAMMAPY_DATA/1.0/cta-caldb/Prod5-South-20deg-AverageAz-14MSTs37SSTs.180000s-v0.1.fits.gz\"\n",
    ")\n",
    "location = observatory_locations[\"cta_south\"]\n",
    "pointing = SkyCoord.from_name(\"Geminga\")\n"
   ]
  },
  {
   "cell_type": "code",
   "execution_count": 6,
   "metadata": {},
   "outputs": [],
   "source": [
    "obs = Observation.create(\n",
    "    pointing=pointing, irfs=irfs, livetime=livetime, location=location\n",
    ")\n",
    "\n",
    "spectrum_maker = SpectrumDatasetMaker(selection=[\"exposure\", \"edisp\", \"background\"])\n",
    "# spectrum_dataset = spectrum_maker.run(empty_dataset, obs)\n",
    "\n",
    "containment = 0.68\n",
    "\n",
    "# correct exposure\n",
    "# spectrum_dataset.exposure *= containment\n",
    "\n",
    "# correct background estimation\n",
    "on_radii = obs.psf.containment_radius(\n",
    "    energy_true=energy_axis.center, offset=0.5 * u.deg, fraction=containment\n",
    ")\n",
    "# factor = (1 - np.cos(on_radii)) / (1 - np.cos(geom.width))\n",
    "# spectrum_dataset.background *= factor.value.reshape(spectrum_dataset.background.data.shape)\n"
   ]
  },
  {
   "cell_type": "code",
   "execution_count": 7,
   "metadata": {},
   "outputs": [
    {
     "name": "stderr",
     "output_type": "stream",
     "text": [
      "Template file already exits, and overwrite is False\n"
     ]
    },
    {
     "name": "stdout",
     "output_type": "stream",
     "text": [
      "Models\n",
      "\n",
      "Component 0: SkyModel\n",
      "\n",
      "  Name                      : Geminga-template-model\n",
      "  Datasets names            : None\n",
      "  Spectral model type       : PowerLawNormSpectralModel\n",
      "  Spatial  model type       : TemplateSpatialModel\n",
      "  Temporal model type       : \n",
      "  Parameters:\n",
      "    norm                          :      1.000   +/-    0.00             \n",
      "    tilt                  (frozen):      0.000                   \n",
      "    reference             (frozen):      1.000       TeV         \n",
      "\n",
      "Component 1: FoVBackgroundModel\n",
      "\n",
      "  Name                      : dataset-simu-bkg\n",
      "  Datasets names            : ['dataset-simu']\n",
      "  Spectral model type       : PowerLawNormSpectralModel\n",
      "  Parameters:\n",
      "    norm                          :      1.000   +/-    0.00             \n",
      "    tilt                  (frozen):      0.000                   \n",
      "    reference             (frozen):      1.000       TeV         \n",
      "\n",
      "\n",
      "components:\n",
      "-   name: Geminga-template-model\n",
      "    type: SkyModel\n",
      "    spectral:\n",
      "        type: PowerLawNormSpectralModel\n",
      "        parameters:\n",
      "        -   name: norm\n",
      "            value: 1.0\n",
      "        -   name: tilt\n",
      "            value: 0.0\n",
      "        -   name: reference\n",
      "            value: 1.0\n",
      "            unit: TeV\n",
      "    spatial:\n",
      "        type: TemplateSpatialModel\n",
      "        frame: icrs\n",
      "        parameters: []\n",
      "        filename: allenergies_TeV.fits\n",
      "        normalize: false\n",
      "        unit: 1 / (cm2 s sr TeV)\n",
      "-   type: FoVBackgroundModel\n",
      "    datasets_names:\n",
      "    - dataset-simu\n",
      "    spectral:\n",
      "        type: PowerLawNormSpectralModel\n",
      "        parameters:\n",
      "        -   name: norm\n",
      "            value: 1.0\n",
      "        -   name: tilt\n",
      "            value: 0.0\n",
      "        -   name: reference\n",
      "            value: 1.0\n",
      "            unit: TeV\n",
      "\n"
     ]
    }
   ],
   "source": [
    "filename = \"allenergies_TeV.fits\"\n",
    "m = Map.read(filename)\n",
    "\n",
    "m = m.copy(unit=\"1 / (cm2 TeV s sr)\")\n",
    "\n",
    "spatial_model = TemplateSpatialModel(m, filename=filename, normalize=False)\n",
    "# spatial_model = GaussianSpatialModel(lon_0=source_coord.ra, lat_0=source_coord.dec, sigma=\"0.5 deg\", frame=\"icrs\")\n",
    "# Geminga_model = SkyModel(spectral_model=PowerLawNormSpectralModel(), spatial_model=spatial_model, name=\"Geminga-template-model\")\n",
    "# Geminga_model = SkyModel(spectral_model=PowerLawSpectralModel(amplitude=5e-10/u.cm**2/u.s/u.TeV), spatial_model=spatial_model, name=\"Geminga-template-model\")\n",
    "Geminga_model = SkyModel(spectral_model=PowerLawNormSpectralModel(amplitude=1/u.cm**2/u.s/u.TeV), spatial_model=spatial_model, name=\"Geminga-template-model\")\n",
    "\n",
    "\n",
    "# m.plot_grid()\n",
    "\n",
    "# bkg_spectral_model = PowerLawSpectralModel(\n",
    "#     index=2.7, amplitude=\"1e6 cm-2 s-1 TeV-1\", reference=\"1 TeV\")\n",
    "\n",
    "bkg_model = FoVBackgroundModel(dataset_name=\"dataset-simu\")\n",
    "#bkg_model = FoVBackgroundModel(spectral_model=bkg_spectral_model, dataset_name=\"dataset-simu\")\n",
    "\n",
    "#models = Models([bkg_model])\n",
    "models = Models([Geminga_model,bkg_model])\n",
    "print(models)\n",
    "\n",
    "print(models.to_yaml())"
   ]
  },
  {
   "cell_type": "code",
   "execution_count": null,
   "metadata": {},
   "outputs": [],
   "source": [
    "# Geminga_model.integrate_geom(RegionGeom.create(f\"icrs;circle({source_coord.ra.deg - 0.1}, {source_coord.dec.deg}, 100)\", \n",
    "#     axes=[energy_axis, energy_axis_true], \n",
    "#     binsz_wcs=0.02 * u.deg))"
   ]
  },
  {
   "cell_type": "code",
   "execution_count": 15,
   "metadata": {},
   "outputs": [
    {
     "data": {
      "text/plain": [
       "[]"
      ]
     },
     "execution_count": 15,
     "metadata": {},
     "output_type": "execute_result"
    },
    {
     "data": {
      "image/png": "[encoded data removed]",
      "text/plain": [
       "<Figure size 640x480 with 1 Axes>"
      ]
     },
     "metadata": {},
     "output_type": "display_data"
    }
   ],
   "source": [
    "en = np.logspace(-1,1, 10)*u.TeV\n",
    "flux = ((Geminga_model.evaluate(source_coord.ra, source_coord.dec, energy=en)*1*u.TeV*1*u.TeV).to(u.eV/u.cm**2/u.s/u.sr)*((3*u.deg)**2)).\\\n",
    "    to(u.eV/u.cm**2/u.s)\n",
    "\n",
    "plt.plot(\n",
    "    en,\n",
    "    flux\n",
    ")\n",
    "\n",
    "plt.loglog()"
   ]
  },
  {
   "cell_type": "code",
   "execution_count": null,
   "metadata": {},
   "outputs": [],
   "source": [
    "Geminga_model.spectral_model.plot(energy_bounds=[1*u.TeV, 10*u.TeV]) #.to(u.erg) #/u.cm**2/u.s)"
   ]
  },
  {
   "cell_type": "code",
   "execution_count": null,
   "metadata": {},
   "outputs": [],
   "source": [
    "empty = MapDataset.create(geom, energy_axis_true=energy_axis_true, migra_axis=migra_axis, name=\"dataset-simu\")\n",
    "\n",
    "obs = Observation.create(pointing=pointing, livetime=livetime, irfs=irfs)\n",
    "print(obs)\n",
    "\n",
    "maker = MapDatasetMaker(selection=[\"exposure\", \"background\", \"psf\", \"edisp\"])\n",
    "\n",
    "# maker_safe_mask = SafeMaskMaker(methods=[\"offset-max\"], offset_max=5.0 * u.deg)\n",
    "\n",
    "dataset = maker.run(empty, obs)\n",
    "# dataset = maker_safe_mask.run(dataset, obs)\n",
    "\n",
    "dataset.models = models\n",
    "\n",
    "dataset.fake()\n",
    "\n",
    "print(dataset)\n",
    "\n",
    "dataset.peek()"
   ]
  },
  {
   "cell_type": "code",
   "execution_count": null,
   "metadata": {},
   "outputs": [],
   "source": [
    "dataset.models.parameters.to_table()"
   ]
  },
  {
   "cell_type": "code",
   "execution_count": null,
   "metadata": {},
   "outputs": [],
   "source": [
    "list(dir(dataset.models))"
   ]
  },
  {
   "cell_type": "code",
   "execution_count": null,
   "metadata": {},
   "outputs": [],
   "source": [
    "dataset_on_off = MapDatasetOnOff.from_map_dataset(\n",
    "    dataset=dataset, acceptance=.1, acceptance_off=5\n",
    ")\n",
    "\n",
    "dataset_spectrum_on_off = SpectrumDatasetOnOff.from_spectrum_dataset(\n",
    "    dataset=spectrum_dataset, acceptance=1, acceptance_off=5\n",
    ")\n",
    "\n",
    "dataset_on_off.counts.data.max(), dataset_on_off.counts_off.data.max()"
   ]
  },
  {
   "cell_type": "code",
   "execution_count": null,
   "metadata": {},
   "outputs": [],
   "source": [
    "dataset_on_off.peek()"
   ]
  },
  {
   "cell_type": "code",
   "execution_count": null,
   "metadata": {},
   "outputs": [],
   "source": [
    "dataset.counts.get_spectrum().plot(label=\"average\")\n",
    "\n",
    "# dataset_on_off.counts_off.get_spectrum().plot(label=\"off\")\n",
    "# dataset_on_off.npred_signal().get_spectrum().plot(label=\"on\")\n",
    "plt.legend()\n"
   ]
  },
  {
   "cell_type": "code",
   "execution_count": null,
   "metadata": {},
   "outputs": [],
   "source": [
    "sensitivity_estimator = SensitivityEstimator(\n",
    "    gamma_min=10, n_sigma=5, bkg_syst_fraction=0.10\n",
    ")\n",
    "sensitivity_table = sensitivity_estimator.run(dataset_on_off)"
   ]
  },
  {
   "cell_type": "code",
   "execution_count": null,
   "metadata": {},
   "outputs": [],
   "source": [
    "sensitivity_table['excess']"
   ]
  },
  {
   "cell_type": "code",
   "execution_count": null,
   "metadata": {},
   "outputs": [],
   "source": [
    "dataset_on_off.counts.data"
   ]
  },
  {
   "cell_type": "code",
   "execution_count": null,
   "metadata": {},
   "outputs": [],
   "source": [
    "\n",
    "spectrum_sensitivity_estimator = SensitivityEstimator(\n",
    "    gamma_min=10, n_sigma=5, bkg_syst_fraction=0.10, \n",
    "    # spectrum= PowerLawSpectralModel(index=2.7, amplitude=\"1 cm-2 s-1 TeV-1\")\n",
    "    # spectrum=Geminga_model.spectral_model\n",
    ")\n",
    "spectrum_sensitivity_table= spectrum_sensitivity_estimator.run(dataset_spectrum_on_off)"
   ]
  },
  {
   "cell_type": "code",
   "execution_count": null,
   "metadata": {},
   "outputs": [],
   "source": [
    "emin_cta, flux_cta = np.loadtxt('CTA_point_source_left.txt',unpack=True) # E[TeV], E^2 * Flux Sensitivity [erg cm^2/s]\n",
    "emax_cta, flux_cta = np.loadtxt('CTA_point_source_right.txt',unpack=True)\n",
    "emean_cta, flux_cta = np.loadtxt('CTA_point_source_mean.txt',unpack=True)"
   ]
  },
  {
   "cell_type": "code",
   "execution_count": null,
   "metadata": {},
   "outputs": [],
   "source": [
    "# check this out, data for \n",
    "# https://zenodo.org/record/5499840#.YUya5WYzbUI\n",
    "# https://docs.gammapy.org/1.0.1/tutorials/analysis-1d/cta_sensitivity.html?highlight=sensitivity"
   ]
  },
  {
   "cell_type": "code",
   "execution_count": null,
   "metadata": {},
   "outputs": [],
   "source": [
    "# Show the results table\n",
    "display(sensitivity_table)\n",
    "\n",
    "# Save it to file (could use e.g. format of CSV or ECSV or FITS)\n",
    "# sensitivity_table.write('sensitivity.ecsv', format='ascii.ecsv')\n",
    "\n",
    "# Plot the sensitivity curve\n",
    "t = sensitivity_table\n",
    "\n",
    "is_s = t[\"criterion\"] == \"significance\"\n",
    "\n",
    "fig, ax = plt.subplots()\n",
    "ax.plot(\n",
    "    spectrum_sensitivity_table[\"energy\"],    \n",
    "    spectrum_sensitivity_table[\"e2dnde\"],\n",
    "    \"s-\",\n",
    "    color=\"black\",\n",
    "    label=\"spectrum dtaset\",\n",
    ")\n",
    "\n",
    "ax.plot(\n",
    "    t[\"energy\"][is_s],\n",
    "    t[\"e2dnde\"][is_s],\n",
    "    \"s-\",\n",
    "    color=\"red\",\n",
    "    label=\"significance\",\n",
    ")\n",
    "\n",
    "is_g = t[\"criterion\"] == \"gamma\"\n",
    "ax.plot(t[\"energy\"][is_g], t[\"e2dnde\"][is_g], \"*-\", color=\"blue\", label=\"gamma\")\n",
    "is_bkg_syst = t[\"criterion\"] == \"bkg\"\n",
    "ax.plot(\n",
    "    t[\"energy\"][is_bkg_syst],\n",
    "    t[\"e2dnde\"][is_bkg_syst],\n",
    "    \"v-\",\n",
    "    color=\"green\",\n",
    "    label=\"bkg syst\",\n",
    ")\n",
    "\n",
    "plt.errorbar(emean_cta[2:-1],flux_cta[2:-1],label='CTA point source 50h')\n",
    "\n",
    "\n",
    "ax.loglog()\n",
    "ax.set_xlabel(f\"Energy [{t['energy'].unit}]\")\n",
    "ax.set_ylabel(f\"Sensitivity [{t['e2dnde'].unit}]\")\n",
    "ax.legend()"
   ]
  },
  {
   "cell_type": "code",
   "execution_count": null,
   "metadata": {},
   "outputs": [],
   "source": [
    "# Plot expected number of counts for signal and background\n",
    "fig, ax1 = plt.subplots()\n",
    "# ax1.plot( t[\"energy\"], t[\"excess\"],\"o-\", color=\"red\", label=\"signal\")\n",
    "ax1.plot(t[\"energy\"], t[\"background\"], \"o-\", color=\"black\", label=\"blackground\")\n",
    "\n",
    "ax1.loglog()\n",
    "ax1.set_xlabel(f\"Energy [{t['energy'].unit}]\")\n",
    "ax1.set_ylabel(\"Expected number of bkg counts\")\n",
    "\n",
    "ax2 = ax1.twinx()\n",
    "ax2.set_ylabel(f\"ON region radius [{on_radii.unit}]\", color=\"red\")\n",
    "ax2.semilogy(t[\"energy\"], on_radii, color=\"red\", label=\"PSF68\")\n",
    "ax2.tick_params(axis=\"y\", labelcolor=\"red\")\n",
    "ax2.set_ylim(0.01, 0.5)\n",
    "plt.show()"
   ]
  }
 ],
 "metadata": {
  "kernelspec": {
   "display_name": "Python 3.11.2 ('__gammapy@1.0')",
   "language": "python",
   "name": "python3"
  },
  "language_info": {
   "codemirror_mode": {
    "name": "ipython",
    "version": 3
   },
   "file_extension": ".py",
   "mimetype": "text/x-python",
   "name": "python",
   "nbconvert_exporter": "python",
   "pygments_lexer": "ipython3",
   "version": "3.11.2"
  },
  "orig_nbformat": 4,
  "vscode": {
   "interpreter": {
    "hash": "099f069b50ea676e40e40846df426129cfc9651c43826d1ab909380a245de452"
   }
  }
 },
 "nbformat": 4,
 "nbformat_minor": 2
}
