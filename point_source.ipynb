{
 "cells": [
  {
   "cell_type": "code",
   "execution_count": 1,
   "id": "9909c980",
   "metadata": {},
   "outputs": [],
   "source": [
    "import numpy as np\n",
    "import astropy.units as u\n",
    "from astropy.coordinates import SkyCoord\n",
    "import os\n",
    "\n",
    "# %matplotlib inline\n",
    "import matplotlib.pyplot as plt"
   ]
  },
  {
   "cell_type": "code",
   "execution_count": 2,
   "id": "d2177004",
   "metadata": {},
   "outputs": [],
   "source": [
    "from IPython.display import display\n",
    "from gammapy.data import Observation, observatory_locations\n",
    "from gammapy.datasets import SpectrumDataset, SpectrumDatasetOnOff\n",
    "from gammapy.estimators import SensitivityEstimator\n",
    "from gammapy.irf import load_cta_irfs\n",
    "from gammapy.makers import SpectrumDatasetMaker\n",
    "from gammapy.maps import MapAxis, RegionGeom\n",
    "from gammapy.maps import Map\n",
    "\n",
    "from gammapy.modeling.models import (\n",
    "    PowerLawSpectralModel,\n",
    "    GaussianSpatialModel,\n",
    "    SkyModel,\n",
    "    Models,\n",
    "    FoVBackgroundModel,\n",
    "    TemplateSpatialModel,\n",
    "    ConstantSpectralModel,\n",
    "    PowerLawNormSpectralModel,\n",
    ")"
   ]
  },
  {
   "cell_type": "code",
   "execution_count": 3,
   "id": "df1dbfcf",
   "metadata": {},
   "outputs": [
    {
     "name": "stdout",
     "output_type": "stream",
     "text": [
      "\n",
      "System:\n",
      "\n",
      "\tpython_executable      : /Users/sokolenko/opt/anaconda3/bin/python \n",
      "\tpython_version         : 3.9.13     \n",
      "\tmachine                : x86_64     \n",
      "\tsystem                 : Darwin     \n",
      "\n",
      "\n",
      "Gammapy package:\n",
      "\n",
      "\tversion                : 1.0        \n",
      "\tpath                   : /Users/sokolenko/opt/anaconda3/lib/python3.9/site-packages/gammapy \n",
      "\n",
      "\n",
      "Other packages:\n",
      "\n",
      "\tnumpy                  : 1.21.5     \n",
      "\tscipy                  : 1.7.3      \n",
      "\tastropy                : 5.1        \n",
      "\tregions                : 0.7        \n",
      "\tclick                  : 8.0.4      \n",
      "\tyaml                   : 6.0        \n",
      "\tIPython                : 7.31.1     \n",
      "\tjupyterlab             : 3.4.4      \n",
      "\tmatplotlib             : 3.5.2      \n",
      "\tpandas                 : 1.4.4      \n",
      "\thealpy                 : 1.16.1     \n",
      "\timinuit                : 2.8.4      \n",
      "\tsherpa                 : not installed \n",
      "\tnaima                  : not installed \n",
      "\temcee                  : not installed \n",
      "\tcorner                 : not installed \n",
      "\n",
      "\n",
      "Gammapy environment variables:\n",
      "\n",
      "\tGAMMAPY_DATA           : gammapy-data/1.0 \n",
      "\n"
     ]
    }
   ],
   "source": [
    "from gammapy.utils.check import check_tutorials_setup\n",
    "\n",
    "check_tutorials_setup()"
   ]
  },
  {
   "cell_type": "code",
   "execution_count": 4,
   "id": "0a48afd3",
   "metadata": {},
   "outputs": [],
   "source": [
    "energy_axis = MapAxis.from_energy_bounds(\"0.03 TeV\", \"30 TeV\", nbin=20)\n",
    "energy_axis_true = MapAxis.from_energy_bounds(\n",
    "    \"0.01 TeV\", \"100 TeV\", nbin=100, name=\"energy_true\"\n",
    ")\n",
    "\n",
    "geom = RegionGeom.create(\"icrs;circle(0, 0.5, 0.1)\", axes=[energy_axis])\n",
    "\n",
    "empty_dataset = SpectrumDataset.create(geom=geom, energy_axis_true=energy_axis_true)\n"
   ]
  },
  {
   "cell_type": "code",
   "execution_count": 5,
   "id": "9722a0a5",
   "metadata": {},
   "outputs": [],
   "source": [
    "filename = \"allenergies_TeV.fits\"\n",
    "m = Map.read(filename)\n",
    "m = m.copy(unit=\"1 / (cm2 TeV s sr)\")\n",
    "\n",
    "spatial_model = TemplateSpatialModel(m, filename=filename, normalize=False)\n",
    "\n",
    "Geminga_model = SkyModel(spectral_model=PowerLawNormSpectralModel(index=0, norm=1), spatial_model=spatial_model, name=\"Geminga-template-model\")\n",
    "\n",
    "models = Models([Geminga_model])"
   ]
  },
  {
   "cell_type": "code",
   "execution_count": 6,
   "id": "2fcf31de",
   "metadata": {},
   "outputs": [],
   "source": [
    "# irfs = load_cta_irfs(\n",
    "#     \"$GAMMAPY_DATA/cta-1dc/caldb/data/cta/1dc/bcf/South_z20_50h/irf_file.fits\"\n",
    "# )\n",
    "\n",
    "irfs = load_cta_irfs(\n",
    "     \"/Users/sokolenko/Dropbox/CTA-Performance-prod5-v0.1-South-60deg.FITS/Prod5-South-60deg-AverageAz-14MSTs37SSTs.18000s-v0.1.fits\"\n",
    ")\n",
    "\n",
    "location = observatory_locations[\"cta_south\"]\n",
    "pointing = SkyCoord(\"0 deg\", \"0 deg\")\n",
    "obs = Observation.create(\n",
    "    pointing=pointing, irfs=irfs, livetime=\"5 h\", location=location\n",
    ")\n",
    "\n",
    "spectrum_maker = SpectrumDatasetMaker(selection=[\"exposure\", \"edisp\", \"background\"])\n",
    "dataset = spectrum_maker.run(empty_dataset, obs)"
   ]
  },
  {
   "cell_type": "code",
   "execution_count": 7,
   "id": "a9d3229b",
   "metadata": {},
   "outputs": [
    {
     "name": "stdout",
     "output_type": "stream",
     "text": [
      "SpectrumDataset\n",
      "---------------\n",
      "\n",
      "  Name                            : WnIiJUdh \n",
      "\n",
      "  Total counts                    : 213 \n",
      "  Total background counts         : 216.82\n",
      "  Total excess counts             : -3.82\n",
      "\n",
      "  Predicted counts                : 216.82\n",
      "  Predicted background counts     : 216.82\n",
      "  Predicted excess counts         : 0.00\n",
      "\n",
      "  Exposure min                    : 1.86e+05 m2 s\n",
      "  Exposure max                    : 8.05e+10 m2 s\n",
      "\n",
      "  Number of total bins            : 20 \n",
      "  Number of fit bins              : 20 \n",
      "\n",
      "  Fit statistic type              : cash\n",
      "  Fit statistic value (-2 log(L)) : -939.79\n",
      "\n",
      "  Number of models                : 1 \n",
      "  Number of parameters            : 3\n",
      "  Number of free parameters       : 1\n",
      "\n",
      "  Component 0: SkyModel\n",
      "  \n",
      "    Name                      : Geminga-template-model\n",
      "    Datasets names            : None\n",
      "    Spectral model type       : PowerLawNormSpectralModel\n",
      "    Spatial  model type       : TemplateSpatialModel\n",
      "    Temporal model type       : \n",
      "    Parameters:\n",
      "      norm                          :      1.000   +/-    0.00             \n",
      "      tilt                  (frozen):      0.000                   \n",
      "      reference             (frozen):      1.000       TeV         \n",
      "  \n",
      "  \n"
     ]
    }
   ],
   "source": [
    "dataset.models = models\n",
    "dataset.fake()\n",
    "\n",
    "print(dataset)"
   ]
  },
  {
   "cell_type": "code",
   "execution_count": 8,
   "id": "8388c60a",
   "metadata": {},
   "outputs": [],
   "source": [
    "containment = 0.68\n",
    "\n",
    "# correct exposure\n",
    "dataset.exposure *= containment\n",
    "\n",
    "# correct background estimation\n",
    "on_radii = obs.psf.containment_radius(\n",
    "    energy_true=energy_axis.center, offset=0.5 * u.deg, fraction=containment\n",
    ")\n",
    "factor = (1 - np.cos(on_radii)) / (1 - np.cos(geom.region.radius))\n",
    "dataset.background *= factor.value.reshape((-1, 1, 1))"
   ]
  },
  {
   "cell_type": "code",
   "execution_count": 9,
   "id": "ac7e3343",
   "metadata": {},
   "outputs": [],
   "source": [
    "dataset_on_off = SpectrumDatasetOnOff.from_spectrum_dataset(\n",
    "    dataset=dataset, acceptance=1, acceptance_off=5\n",
    ")"
   ]
  },
  {
   "cell_type": "code",
   "execution_count": 10,
   "id": "26f3f035",
   "metadata": {},
   "outputs": [
    {
     "name": "stderr",
     "output_type": "stream",
     "text": [
      "/Users/sokolenko/opt/anaconda3/lib/python3.9/site-packages/astropy/units/quantity.py:611: RuntimeWarning: divide by zero encountered in true_divide\n",
      "  result = super().__array_ufunc__(function, method, *arrays, **kwargs)\n"
     ]
    }
   ],
   "source": [
    "sensitivity_estimator = SensitivityEstimator(\n",
    "    gamma_min=5, n_sigma=3, bkg_syst_fraction=0.10\n",
    ")\n",
    "sensitivity_table = sensitivity_estimator.run(dataset_on_off)"
   ]
  },
  {
   "cell_type": "code",
   "execution_count": 11,
   "id": "3b7f582c",
   "metadata": {},
   "outputs": [
    {
     "data": {
      "text/html": [
       "<div><i>Table length=20</i>\n",
       "<table id=\"table140191668804960\" class=\"table-striped table-bordered table-condensed\">\n",
       "<thead><tr><th>energy</th><th>e2dnde</th><th>excess</th><th>background</th><th>criterion</th></tr></thead>\n",
       "<thead><tr><th>TeV</th><th>erg / (cm2 s)</th><th></th><th></th><th></th></tr></thead>\n",
       "<thead><tr><th>float64</th><th>float64</th><th>float64</th><th>float64</th><th>bytes12</th></tr></thead>\n",
       "<tr><td>0.0356551</td><td>inf</td><td>5</td><td>0</td><td>gamma</td></tr>\n",
       "<tr><td>0.0503641</td><td>inf</td><td>5</td><td>0</td><td>gamma</td></tr>\n",
       "<tr><td>0.0711412</td><td>inf</td><td>5</td><td>0</td><td>gamma</td></tr>\n",
       "<tr><td>0.10049</td><td>inf</td><td>5</td><td>0</td><td>gamma</td></tr>\n",
       "<tr><td>0.141945</td><td>inf</td><td>5</td><td>3.15436e-08</td><td>gamma</td></tr>\n",
       "<tr><td>0.200503</td><td>1.49221e-10</td><td>42.8594</td><td>153.922</td><td>significance</td></tr>\n",
       "<tr><td>0.283218</td><td>3.67474e-12</td><td>30.8578</td><td>76.6645</td><td>significance</td></tr>\n",
       "<tr><td>0.400056</td><td>1.77025e-12</td><td>37.6317</td><td>116.991</td><td>significance</td></tr>\n",
       "<tr><td>0.565095</td><td>1.36984e-12</td><td>32.2725</td><td>84.3844</td><td>significance</td></tr>\n",
       "<tr><td>0.798218</td><td>1.22844e-12</td><td>23.483</td><td>42.4203</td><td>significance</td></tr>\n",
       "<tr><td>1.12751</td><td>9.28815e-13</td><td>17.4716</td><td>21.9549</td><td>significance</td></tr>\n",
       "<tr><td>1.59265</td><td>6.91398e-13</td><td>13.3113</td><td>11.7059</td><td>significance</td></tr>\n",
       "<tr><td>2.24968</td><td>5.82939e-13</td><td>9.37574</td><td>4.95501</td><td>significance</td></tr>\n",
       "<tr><td>3.17776</td><td>5.37994e-13</td><td>6.95783</td><td>2.22358</td><td>significance</td></tr>\n",
       "<tr><td>4.48871</td><td>4.93483e-13</td><td>6.04036</td><td>1.46818</td><td>significance</td></tr>\n",
       "<tr><td>6.34047</td><td>5.4649e-13</td><td>5.66172</td><td>1.20133</td><td>significance</td></tr>\n",
       "<tr><td>8.95615</td><td>6.31354e-13</td><td>5</td><td>0.788574</td><td>gamma</td></tr>\n",
       "<tr><td>12.6509</td><td>7.62749e-13</td><td>5</td><td>0.498487</td><td>gamma</td></tr>\n",
       "<tr><td>17.8699</td><td>9.46045e-13</td><td>5</td><td>0.335976</td><td>gamma</td></tr>\n",
       "<tr><td>25.2419</td><td>1.27571e-12</td><td>5</td><td>0.208443</td><td>gamma</td></tr>\n",
       "</table></div>"
      ],
      "text/plain": [
       "<Table length=20>\n",
       "  energy      e2dnde     excess  background  criterion  \n",
       "   TeV    erg / (cm2 s)                                 \n",
       " float64     float64    float64   float64     bytes12   \n",
       "--------- ------------- ------- ----------- ------------\n",
       "0.0356551           inf       5           0        gamma\n",
       "0.0503641           inf       5           0        gamma\n",
       "0.0711412           inf       5           0        gamma\n",
       "  0.10049           inf       5           0        gamma\n",
       " 0.141945           inf       5 3.15436e-08        gamma\n",
       " 0.200503   1.49221e-10 42.8594     153.922 significance\n",
       " 0.283218   3.67474e-12 30.8578     76.6645 significance\n",
       " 0.400056   1.77025e-12 37.6317     116.991 significance\n",
       " 0.565095   1.36984e-12 32.2725     84.3844 significance\n",
       " 0.798218   1.22844e-12  23.483     42.4203 significance\n",
       "  1.12751   9.28815e-13 17.4716     21.9549 significance\n",
       "  1.59265   6.91398e-13 13.3113     11.7059 significance\n",
       "  2.24968   5.82939e-13 9.37574     4.95501 significance\n",
       "  3.17776   5.37994e-13 6.95783     2.22358 significance\n",
       "  4.48871   4.93483e-13 6.04036     1.46818 significance\n",
       "  6.34047    5.4649e-13 5.66172     1.20133 significance\n",
       "  8.95615   6.31354e-13       5    0.788574        gamma\n",
       "  12.6509   7.62749e-13       5    0.498487        gamma\n",
       "  17.8699   9.46045e-13       5    0.335976        gamma\n",
       "  25.2419   1.27571e-12       5    0.208443        gamma"
      ]
     },
     "metadata": {},
     "output_type": "display_data"
    },
    {
     "data": {
      "text/plain": [
       "<matplotlib.legend.Legend at 0x7f80d81b6460>"
      ]
     },
     "execution_count": 11,
     "metadata": {},
     "output_type": "execute_result"
    },
    {
     "data": {
      "image/png": "[encoded data removed]",
      "text/plain": [
       "<Figure size 640x480 with 1 Axes>"
      ]
     },
     "metadata": {},
     "output_type": "display_data"
    }
   ],
   "source": [
    "# Show the results table\n",
    "display(sensitivity_table)\n",
    "\n",
    "# Save it to file (could use e.g. format of CSV or ECSV or FITS)\n",
    "# sensitivity_table.write('sensitivity.ecsv', format='ascii.ecsv')\n",
    "\n",
    "# Plot the sensitivity curve\n",
    "t = sensitivity_table\n",
    "\n",
    "is_s = t[\"criterion\"] == \"significance\"\n",
    "\n",
    "fig, ax = plt.subplots()\n",
    "ax.plot(\n",
    "    t[\"energy\"][is_s],\n",
    "    t[\"e2dnde\"][is_s],\n",
    "    \"s-\",\n",
    "    color=\"red\",\n",
    "    label=\"significance\",\n",
    ")\n",
    "\n",
    "is_g = t[\"criterion\"] == \"gamma\"\n",
    "ax.plot(t[\"energy\"][is_g], t[\"e2dnde\"][is_g], \"*-\", color=\"blue\", label=\"gamma\")\n",
    "is_bkg_syst = t[\"criterion\"] == \"bkg\"\n",
    "ax.plot(\n",
    "    t[\"energy\"][is_bkg_syst],\n",
    "    t[\"e2dnde\"][is_bkg_syst],\n",
    "    \"v-\",\n",
    "    color=\"green\",\n",
    "    label=\"bkg syst\",\n",
    ")\n",
    "\n",
    "ax.loglog()\n",
    "ax.set_xlabel(f\"Energy [{t['energy'].unit}]\")\n",
    "ax.set_ylabel(f\"Sensitivity [{t['e2dnde'].unit}]\")\n",
    "ax.legend()\n"
   ]
  },
  {
   "cell_type": "code",
   "execution_count": null,
   "id": "9c3dc00c",
   "metadata": {},
   "outputs": [],
   "source": []
  }
 ],
 "metadata": {
  "kernelspec": {
   "display_name": "Python 3 (ipykernel)",
   "language": "python",
   "name": "python3"
  },
  "language_info": {
   "codemirror_mode": {
    "name": "ipython",
    "version": 3
   },
   "file_extension": ".py",
   "mimetype": "text/x-python",
   "name": "python",
   "nbconvert_exporter": "python",
   "pygments_lexer": "ipython3",
   "version": "3.9.13"
  }
 },
 "nbformat": 4,
 "nbformat_minor": 5
}
